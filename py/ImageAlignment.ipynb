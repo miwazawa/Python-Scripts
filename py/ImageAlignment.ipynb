{
 "cells": [
  {
   "cell_type": "code",
   "execution_count": 109,
   "metadata": {},
   "outputs": [],
   "source": [
    "import cv2\n",
    "import numpy as np\n",
    "from PIL import Image\n",
    "import time\n",
    "\n",
    "def show(img):\n",
    "    cv2.imshow(\"img\",img)\n",
    "    cv2.waitKey(0)\n",
    "    \n",
    "    cv2.destroyAllWindows()\n",
    "    \n",
    "ref_img = cv2.imread(\"./Landolt.png\", cv2.IMREAD_GRAYSCALE)\n",
    "tgt_img = cv2.imread(\"./RotateLandolt.png\", cv2.IMREAD_GRAYSCALE)"
   ]
  },
  {
   "cell_type": "code",
   "execution_count": 110,
   "metadata": {},
   "outputs": [],
   "source": [
    "\n",
    "\n",
    "#print(ref_img.shape, tgt_img.shape)\n",
    "\n",
    "match_result = cv2.matchTemplate(ref_img, tgt_img, cv2.TM_CCOEFF_NORMED)\n",
    "\n",
    "show(match_result)\n"
   ]
  },
  {
   "cell_type": "code",
   "execution_count": 116,
   "metadata": {},
   "outputs": [
    {
     "name": "stdout",
     "output_type": "stream",
     "text": [
      "ECC elapsed_time:0.38895130157470703[msec]\n",
      "ECC elapsed_time:1.3164710998535156[msec]\n"
     ]
    }
   ],
   "source": [
    "start = time.time()\n",
    "for i in range(1):\n",
    "    a = ripoc(ref_img, tgt_img)\n",
    "elapsed_time = time.time() - start\n",
    "print (\"ECC elapsed_time:{0}\".format(elapsed_time*10) + \"[msec]\")\n",
    "show(a)"
   ]
  },
  {
   "cell_type": "code",
   "execution_count": 5,
   "metadata": {},
   "outputs": [
    {
     "name": "stdout",
     "output_type": "stream",
     "text": [
      "181 189\n"
     ]
    }
   ],
   "source": [
    "# 画像読み込み\n",
    "ref_img = cv2.imread(\"./ref_coin.png\")\n",
    "tgt_img = cv2.imread(\"./tgt_coin.png\")\n",
    "\n",
    "# テンプレートマッチング\n",
    "match_result = cv2.matchTemplate(ref_img, tgt_img, cv2.TM_CCOEFF_NORMED)\n",
    "min_val, max_val, min_loc, max_loc = cv2.minMaxLoc(match_result)\n",
    "\n",
    "# 四角形を描画\n",
    "h, w = tgt_img.shape[:2]\n",
    "top_left = max_loc\n",
    "bottom_right = (top_left[0] + h, top_left[1] + w)\n",
    "cv2.rectangle(ref_img,top_left, bottom_right, (0,0,255), 3)\n",
    "\n",
    "print(h,w)"
   ]
  },
  {
   "cell_type": "code",
   "execution_count": 16,
   "metadata": {},
   "outputs": [
    {
     "data": {
      "text/plain": [
       "True"
      ]
     },
     "execution_count": 16,
     "metadata": {},
     "output_type": "execute_result"
    }
   ],
   "source": [
    "min_val, max_val, min_loc, max_loc = cv2.minMaxLoc(match_result)\n",
    "\n",
    "#検出領域を四角で囲んで保存\n",
    "w, h = tgt_img.shape[:2]\n",
    "result = ref_img.copy()\n",
    "#result = cv2.cvtColor(result, cv2.COLOR_GRAY2BGR)\n",
    "top_left = max_loc\n",
    "bottom_right = (top_left[0] + w, top_left[1] + h)\n",
    "cv2.rectangle(result,top_left, bottom_right, (0,0,255), 3)\n",
    "cv2.imwrite(\"./test.png\", result)\n",
    "#show(result)"
   ]
  },
  {
   "cell_type": "code",
   "execution_count": 34,
   "metadata": {},
   "outputs": [],
   "source": [
    "temp = rotate_img(ref_img, 90)\n",
    "temp = shift_x(temp, 100)\n",
    "temp = shift_y(temp, 100)"
   ]
  },
  {
   "cell_type": "code",
   "execution_count": 7,
   "metadata": {},
   "outputs": [
    {
     "name": "stdout",
     "output_type": "stream",
     "text": [
      "Shift X: 100.00350400463026\n",
      "Shift Y: 101.98761261595479\n"
     ]
    }
   ],
   "source": [
    "(x, y), response = cv2.phaseCorrelate(ref_img.astype(np.float32), tgt_img.astype(np.float32))\n",
    "\n",
    "\n",
    "print(f'Shift X: {x}\\nShift Y: {y}')"
   ]
  },
  {
   "cell_type": "code",
   "execution_count": 39,
   "metadata": {},
   "outputs": [],
   "source": [
    "def shift_x(image, shift):\n",
    "    h, w = image.shape[:2]\n",
    "    src = np.array([[0.0, 0.0],[0.0, 1.0],[1.0, 0.0]], np.float32)\n",
    "    dest = src.copy()\n",
    "    dest[:,0] += shift # シフトするピクセル値\n",
    "    affine = cv2.getAffineTransform(src, dest)\n",
    "    return cv2.warpAffine(image, affine, (w, h))\n",
    "\n",
    "def shift_y(image, shift):\n",
    "    h, w = image.shape[:2]\n",
    "    src = np.array([[0.0, 0.0],[0.0, 1.0],[1.0, 0.0]], np.float32)\n",
    "    dest = src.copy()\n",
    "    dest[:,1] += shift # シフトするピクセル値\n",
    "    affine = cv2.getAffineTransform(src, dest)\n",
    "    return cv2.warpAffine(image, affine, (w, h))\n",
    "\n",
    "#ndarrayを回転させる関数\n",
    "def rotate_img(img,angle):\n",
    "    pil_img = cv2pil(img)\n",
    "    kurukuru_pil_img = pil_img.rotate(angle)\n",
    "    rotated_img = pil2cv(kurukuru_pil_img)\n",
    "    return rotated_img\n",
    "\n",
    "#OpenCV → Pillow\n",
    "def cv2pil(image):\n",
    "    ''' OpenCV型 -> PIL型 '''\n",
    "    new_image = image.copy()\n",
    "    if new_image.ndim == 2:  # モノクロ\n",
    "        pass\n",
    "    elif new_image.shape[2] == 3:  # カラー\n",
    "        new_image = cv2.cvtColor(new_image, cv2.COLOR_BGR2RGB)\n",
    "    elif new_image.shape[2] == 4:  # 透過\n",
    "        new_image = cv2.cvtColor(new_image, cv2.COLOR_BGRA2RGBA)\n",
    "    new_image = Image.fromarray(new_image)\n",
    "    return new_image\n",
    "\n",
    "#Pillow → OpenCV\n",
    "def pil2cv(image):\n",
    "    ''' PIL型 -> OpenCV型 '''\n",
    "    new_image = np.array(image, dtype=np.uint8)\n",
    "    if new_image.ndim == 2:  # モノクロ\n",
    "        pass\n",
    "    elif new_image.shape[2] == 3:  # カラー\n",
    "        new_image = cv2.cvtColor(new_image, cv2.COLOR_RGB2BGR)\n",
    "    elif new_image.shape[2] == 4:  # 透過\n",
    "        new_image = cv2.cvtColor(new_image, cv2.COLOR_RGBA2BGRA)\n",
    "    return new_image"
   ]
  },
  {
   "cell_type": "code",
   "execution_count": 11,
   "metadata": {},
   "outputs": [],
   "source": [
    "show(dst)"
   ]
  },
  {
   "cell_type": "code",
   "execution_count": 35,
   "metadata": {},
   "outputs": [
    {
     "data": {
      "text/plain": [
       "True"
      ]
     },
     "execution_count": 35,
     "metadata": {},
     "output_type": "execute_result"
    }
   ],
   "source": [
    "cv2.imwrite(\"./test.png\", temp)"
   ]
  },
  {
   "cell_type": "code",
   "execution_count": 10,
   "metadata": {},
   "outputs": [],
   "source": [
    "w,h = tgt_img.shape[:2]\n",
    "\n",
    "M = np.float32([[1,0,-x],[0,1,-y]])\n",
    "dst = cv2.warpAffine(tgt_img,M,(w,h))"
   ]
  },
  {
   "cell_type": "code",
   "execution_count": 17,
   "metadata": {},
   "outputs": [
    {
     "data": {
      "text/plain": [
       "(0, 0)"
      ]
     },
     "execution_count": 17,
     "metadata": {},
     "output_type": "execute_result"
    }
   ],
   "source": [
    "max_loc"
   ]
  },
  {
   "cell_type": "code",
   "execution_count": 91,
   "metadata": {},
   "outputs": [],
   "source": [
    "# 画像読み込み\n",
    "ref_img = cv2.imread(\"./Landolt.png\", cv2.IMREAD_GRAYSCALE)\n",
    "tgt_img = cv2.imread(\"./RotateLandolt.png\", cv2.IMREAD_GRAYSCALE)\n",
    "#tgt_img = cv2.imread(\"./ShiftLandolt.png\", cv2.IMREAD_GRAYSCALE)\n",
    "\n"
   ]
  },
  {
   "cell_type": "code",
   "execution_count": 92,
   "metadata": {},
   "outputs": [
    {
     "name": "stdout",
     "output_type": "stream",
     "text": [
      "Shift X: -98.93914068317139\n",
      "Shift Y: 100.10505647091378\n",
      "angle: -89.94978000131137\n",
      "scale:1.0002553379376475\n"
     ]
    }
   ],
   "source": [
    "print(f'Shift X: {x}\\nShift Y: {y}\\nangle: {angle}\\nscale:{scale}')\n"
   ]
  },
  {
   "cell_type": "code",
   "execution_count": 95,
   "metadata": {},
   "outputs": [
    {
     "name": "stdout",
     "output_type": "stream",
     "text": [
      "[[0.00000000e+00 0.00000000e+00 0.00000000e+00 ... 0.00000000e+00\n",
      "  0.00000000e+00 0.00000000e+00]\n",
      " [0.00000000e+00 4.07914643e-09 1.63163335e-08 ... 8.06027952e-09\n",
      "  1.98421352e-09 0.00000000e+00]\n",
      " [0.00000000e+00 1.63163335e-08 6.52643249e-08 ... 3.22919067e-08\n",
      "  7.93634591e-09 0.00000000e+00]\n",
      " ...\n",
      " [0.00000000e+00 1.63163335e-08 6.52643249e-08 ... 3.21943690e-08\n",
      "  7.91486725e-09 0.00000000e+00]\n",
      " [0.00000000e+00 4.07914643e-09 1.63163335e-08 ... 8.06463288e-09\n",
      "  1.98777779e-09 0.00000000e+00]\n",
      " [0.00000000e+00 0.00000000e+00 0.00000000e+00 ... 0.00000000e+00\n",
      "  0.00000000e+00 0.00000000e+00]]\n"
     ]
    }
   ],
   "source": [
    "def seikika(ref_img_fft):\n",
    "    ref_img_fft = ref_img_fft / ref_img_fft.max()\n",
    "    ref_img_fft = 255 * ref_img_fft\n",
    "    return ref_img_fft.astype(np.uint8)\n",
    "show(tgt_img)\n",
    "show(seikika(ref_img_pol))\n",
    "print(ref_img_pol)"
   ]
  },
  {
   "cell_type": "code",
   "execution_count": 115,
   "metadata": {},
   "outputs": [],
   "source": [
    "def poc(ref_img, tgt_img):\n",
    "    # 位相限定相関法\n",
    "    (x, y), response = cv2.phaseCorrelate(ref_img .astype(np.float32), tgt_img .astype(np.float32))\n",
    "\n",
    "    # affine変換による平行移動\n",
    "    M = np.float32([[1, 0, -x], [0, 1, -y]])\n",
    "    return cv2.warpAffine(tgt_img, M, (w, h))\n",
    "\n",
    "\n",
    "\n",
    "def ripoc(ref_img, tgt_img):\n",
    "    # Numpy配列に変換\n",
    "    ref_img_gray = np.array(ref_img,dtype=np.float64)#np.asarray(cv2.cvtColor(img_ref, cv2.COLOR_BGR2GRAY), 'float')\n",
    "    tgt_img_gray = np.array(tgt_img,dtype=np.float64)#np.asarray(cv2.cvtColor(img_tgt, cv2.COLOR_BGR2GRAY), 'float')\n",
    "\n",
    "    # 画像サイズ定義\n",
    "    h, w = ref_img_gray.shape\n",
    "    center = (w/2, h/2)\n",
    "\n",
    "    # 窓関数定義\n",
    "    hunning_y = np.hanning(h)\n",
    "    hunning_x = np.hanning(h)\n",
    "    hunning_w = hunning_y.reshape(h, 1)*hunning_x\n",
    "\n",
    "    start = time.time()\n",
    "    # フーリエ変換\n",
    "    ref_img_fft = np.fft.fftshift(np.log(np.abs(np.fft.fft2(ref_img_gray*hunning_w))))\n",
    "    tgt_img_fft = np.fft.fftshift(np.log(np.abs(np.fft.fft2(tgt_img_gray*hunning_w))))\n",
    "\n",
    "    elapsed_time = time.time() - start\n",
    "    print (\"ECC elapsed_time:{0}\".format(elapsed_time*10) + \"[msec]\")\n",
    "    \n",
    "    # 対数極座標変換 (lanczos法補間)\n",
    "    l = np.sqrt(w*w + h*h)\n",
    "    m = l/np.log(l)\n",
    "    flags = cv2.INTER_LANCZOS4 + cv2.WARP_POLAR_LOG\n",
    "    ref_img_pol = cv2.warpPolar(ref_img_fft, (w, h), center, m, flags)\n",
    "    tgt_img_pol = cv2.warpPolar(tgt_img_fft, (w, h), center, m, flags)\n",
    "\n",
    "    # 位相限定相関法\n",
    "    (x, y), response = cv2.phaseCorrelate(ref_img_pol, tgt_img_pol, hunning_w)\n",
    "\n",
    "    # affine変換による平行移動\n",
    "    angle = y*360/h\n",
    "    scale = (np.e)**(x/m)\n",
    "    M = cv2.getRotationMatrix2D(center, angle, scale)\n",
    "    tgt_img_affine = cv2.warpAffine((tgt_img_gray), M, (w, h))\n",
    "\n",
    "    # 位相限定相関法\n",
    "    (x, y), response = cv2.phaseCorrelate(ref_img_gray, tgt_img_affine)\n",
    "\n",
    "    #位相限定相関法の返り値から画像を生成\n",
    "    M[0][2] -= x\n",
    "    M[1][2] -= y\n",
    "    return cv2.warpAffine(tgt_img, M, (w, h))"
   ]
  },
  {
   "cell_type": "code",
   "execution_count": null,
   "metadata": {},
   "outputs": [],
   "source": []
  }
 ],
 "metadata": {
  "kernelspec": {
   "display_name": "Python 3",
   "language": "python",
   "name": "python3"
  },
  "language_info": {
   "codemirror_mode": {
    "name": "ipython",
    "version": 3
   },
   "file_extension": ".py",
   "mimetype": "text/x-python",
   "name": "python",
   "nbconvert_exporter": "python",
   "pygments_lexer": "ipython3",
   "version": "3.7.4"
  }
 },
 "nbformat": 4,
 "nbformat_minor": 4
}
