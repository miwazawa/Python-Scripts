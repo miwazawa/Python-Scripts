{
 "cells": [
  {
   "cell_type": "code",
   "execution_count": 57,
   "metadata": {},
   "outputs": [],
   "source": [
    "import nltk\n",
    "\n",
    "sentence_num = '3'\n",
    "\n",
    "ref = open(\"./sentence/\" + sentence_num + \"/ref_en.txt\", \"r\").readlines()[0]\n",
    "google = open(\"./sentence/\" + sentence_num + \"/Google.txt\", \"r\").readlines()[0]\n",
    "deepl = open(\"./sentence/\" + sentence_num + \"/DeepL.txt\", \"r\").readlines()[0]\n",
    "mirai = open(\"./sentence/\" + sentence_num + \"/Mirai.txt\", \"r\").readlines()[0]\n",
    "excite = open(\"./sentence/\" + sentence_num + \"/Excite.txt\", \"r\").readlines()[0]\n",
    "weblio = open(\"./sentence/\" + sentence_num + \"/Weblio.txt\", \"r\").readlines()[0]\n"
   ]
  },
  {
   "cell_type": "code",
   "execution_count": 58,
   "metadata": {},
   "outputs": [
    {
     "name": "stdout",
     "output_type": "stream",
     "text": [
      "26\n"
     ]
    }
   ],
   "source": [
    "ref_token = nltk.word_tokenize(ref)\n",
    "google_token = nltk.word_tokenize(google)\n",
    "deepl_token = nltk.word_tokenize(deepl)\n",
    "mirai_token = nltk.word_tokenize(mirai)\n",
    "excite_token = nltk.word_tokenize(excite)\n",
    "weblio_token = nltk.word_tokenize(weblio)\n",
    "\n",
    "print(len(ref_token))"
   ]
  },
  {
   "cell_type": "code",
   "execution_count": 43,
   "metadata": {},
   "outputs": [],
   "source": [
    "BLEUscore_2grams_google = nltk.translate.bleu_score.sentence_bleu([ref_token], google_token, weights=(0.5, 0.5))\n",
    "BLEUscore_2grams_deepl = nltk.translate.bleu_score.sentence_bleu([ref_token], deepl_token, weights=(0.5, 0.5))\n",
    "BLEUscore_2grams_mirai = nltk.translate.bleu_score.sentence_bleu([ref_token], mirai_token, weights=(0.5, 0.5))\n",
    "BLEUscore_2grams_excite = nltk.translate.bleu_score.sentence_bleu([ref_token], excite_token, weights=(0.5, 0.5))\n",
    "BLEUscore_2grams_weblio = nltk.translate.bleu_score.sentence_bleu([ref_token], weblio_token, weights=(0.5, 0.5))"
   ]
  },
  {
   "cell_type": "code",
   "execution_count": 44,
   "metadata": {},
   "outputs": [],
   "source": [
    "BLEUscore_4grams_google = nltk.translate.bleu_score.sentence_bleu([ref_token], google_token, weights=(0.25, 0.25, 0.25, 0.25))\n",
    "BLEUscore_4grams_deepl = nltk.translate.bleu_score.sentence_bleu([ref_token], deepl_token, weights=(0.25, 0.25, 0.25, 0.25))\n",
    "BLEUscore_4grams_mirai = nltk.translate.bleu_score.sentence_bleu([ref_token], mirai_token, weights=(0.25, 0.25, 0.25, 0.25))\n",
    "BLEUscore_4grams_excite = nltk.translate.bleu_score.sentence_bleu([ref_token], excite_token, weights=(0.25, 0.25, 0.25, 0.25))\n",
    "BLEUscore_4grams_weblio = nltk.translate.bleu_score.sentence_bleu([ref_token], weblio_token, weights=(0.25, 0.25, 0.25, 0.25))"
   ]
  },
  {
   "cell_type": "code",
   "execution_count": 45,
   "metadata": {},
   "outputs": [
    {
     "name": "stdout",
     "output_type": "stream",
     "text": [
      "Google翻訳(2grams)：0.4922874554317936\n",
      "DeepL翻訳(2grams)：0.5179422487094933\n",
      "みらい翻訳(2grams)：0.6273890509696481\n",
      "Excite翻訳(2grams)：0.23632829671833047\n",
      "Weblio翻訳(2grams)：0.33613540870758174\n",
      "\n",
      "Google翻訳(4grams)：0.3474411871253603\n",
      "DeepL翻訳(4grams)：0.42711885617566203\n",
      "みらい翻訳(4grams)：0.45928244474975916\n",
      "Excite翻訳(4grams)：2.2798407520402463e-78\n",
      "Weblio翻訳(4grams)：0.16327054813761244\n"
     ]
    }
   ],
   "source": [
    "print(\"Google翻訳(2grams)：\" + str(BLEUscore_2grams_google) + \"\\n\" + \n",
    "      \"DeepL翻訳(2grams)：\" + str(BLEUscore_2grams_deepl) + \"\\n\" +\n",
    "      \"みらい翻訳(2grams)：\" + str(BLEUscore_2grams_mirai) + \"\\n\" +\n",
    "      \"Excite翻訳(2grams)：\" + str(BLEUscore_2grams_excite) + \"\\n\" +\n",
    "      \"Weblio翻訳(2grams)：\" + str(BLEUscore_2grams_weblio) + \"\\n\")\n",
    "\n",
    "print(\"Google翻訳(4grams)：\" + str(BLEUscore_4grams_google) + \"\\n\" + \n",
    "      \"DeepL翻訳(4grams)：\" + str(BLEUscore_4grams_deepl) + \"\\n\" +\n",
    "      \"みらい翻訳(4grams)：\" + str(BLEUscore_4grams_mirai) + \"\\n\" +\n",
    "      \"Excite翻訳(4grams)：\" + str(BLEUscore_4grams_excite) + \"\\n\" +\n",
    "      \"Weblio翻訳(4grams)：\" + str(BLEUscore_4grams_weblio))"
   ]
  },
  {
   "cell_type": "code",
   "execution_count": 49,
   "metadata": {},
   "outputs": [
    {
     "name": "stdout",
     "output_type": "stream",
     "text": [
      "Google翻訳(2grams)：0.4922874554317936\n",
      "DeepL翻訳(2grams)：0.5179422487094933\n",
      "Weblio翻訳(2grams)：0.33613540870758174\n",
      "Excite翻訳(2grams)：0.1931013609305236\n",
      "みらい翻訳(2grams)：0.6273890509696481\n",
      "\n",
      "Google翻訳(4grams)：0.3474411871253603\n",
      "DeepL翻訳(4grams)：0.42711885617566203\n",
      "Weblio翻訳(4grams)：0.16327054813761244\n",
      "Excite翻訳(4grams)：1.9447858087057546e-78\n",
      "みらい翻訳(4grams)：0.45928244474975916\n"
     ]
    }
   ],
   "source": [
    "sentence_num = '1'\n",
    "\n",
    "# txtファイル読み込み\n",
    "ref = open(\"./sentence/\" + sentence_num + \"/ref_en.txt\", \"r\").readlines()[0]\n",
    "google = open(\"./sentence/\" + sentence_num + \"/Google.txt\", \"r\").readlines()[0]\n",
    "deepl = open(\"./sentence/\" + sentence_num + \"/DeepL.txt\", \"r\").readlines()[0]\n",
    "weblio = open(\"./sentence/\" + sentence_num + \"/Weblio.txt\", \"r\").readlines()[0]\n",
    "excite = open(\"./sentence/\" + sentence_num + \"/Excite.txt\", \"r\").readlines()[0]\n",
    "mirai = open(\"./sentence/\" + sentence_num + \"/Mirai.txt\", \"r\").readlines()[0]\n",
    "\n",
    "# トークンに分割\n",
    "ref_token = nltk.word_tokenize(ref)\n",
    "google_token = nltk.word_tokenize(google)\n",
    "deepl_token = nltk.word_tokenize(deepl)\n",
    "weblio_token = nltk.word_tokenize(weblio)\n",
    "excite_token = nltk.word_tokenize(excite)\n",
    "mirai_token = nltk.word_tokenize(mirai)\n",
    "\n",
    "# 2-gramのBLEUスコアを計算\n",
    "BLEUscore_2grams_google = nltk.translate.bleu_score.sentence_bleu([ref_token], google_token, weights=(0.5, 0.5))\n",
    "BLEUscore_2grams_deepl = nltk.translate.bleu_score.sentence_bleu([ref_token], deepl_token, weights=(0.5, 0.5))\n",
    "BLEUscore_2grams_weblio = nltk.translate.bleu_score.sentence_bleu([ref_token], weblio_token, weights=(0.5, 0.5))\n",
    "BLEUscore_2grams_excite = nltk.translate.bleu_score.sentence_bleu([ref_token], excite_token, weights=(0.5, 0.5))\n",
    "BLEUscore_2grams_mirai = nltk.translate.bleu_score.sentence_bleu([ref_token], mirai_token, weights=(0.5, 0.5))\n",
    "\n",
    "# 4-gramのBLEUスコアを計算\n",
    "BLEUscore_4grams_google = nltk.translate.bleu_score.sentence_bleu([ref_token], google_token, weights=(0.25, 0.25, 0.25, 0.25))\n",
    "BLEUscore_4grams_deepl = nltk.translate.bleu_score.sentence_bleu([ref_token], deepl_token, weights=(0.25, 0.25, 0.25, 0.25))\n",
    "BLEUscore_4grams_weblio = nltk.translate.bleu_score.sentence_bleu([ref_token], weblio_token, weights=(0.25, 0.25, 0.25, 0.25))\n",
    "BLEUscore_4grams_excite = nltk.translate.bleu_score.sentence_bleu([ref_token], excite_token, weights=(0.25, 0.25, 0.25, 0.25))\n",
    "BLEUscore_4grams_mirai = nltk.translate.bleu_score.sentence_bleu([ref_token], mirai_token, weights=(0.25, 0.25, 0.25, 0.25))\n",
    "\n",
    "# 出力\n",
    "print(\"Google翻訳(2grams)：\" + str(BLEUscore_2grams_google) + \"\\n\" + \n",
    "      \"DeepL翻訳(2grams)：\" + str(BLEUscore_2grams_deepl) + \"\\n\" +\n",
    "      \"Weblio翻訳(2grams)：\" + str(BLEUscore_2grams_weblio) + \"\\n\" +\n",
    "      \"Excite翻訳(2grams)：\" + str(BLEUscore_2grams_excite) + \"\\n\" +\n",
    "      \"みらい翻訳(2grams)：\" + str(BLEUscore_2grams_mirai) + \"\\n\")\n",
    "\n",
    "print(\"Google翻訳(4grams)：\" + str(BLEUscore_4grams_google) + \"\\n\" + \n",
    "      \"DeepL翻訳(4grams)：\" + str(BLEUscore_4grams_deepl) + \"\\n\" +\n",
    "      \"Weblio翻訳(4grams)：\" + str(BLEUscore_4grams_weblio) + \"\\n\" +\n",
    "      \"Excite翻訳(4grams)：\" + str(BLEUscore_4grams_excite) + \"\\n\" +\n",
    "      \"みらい翻訳(4grams)：\" + str(BLEUscore_4grams_mirai))"
   ]
  },
  {
   "cell_type": "code",
   "execution_count": null,
   "metadata": {},
   "outputs": [],
   "source": []
  }
 ],
 "metadata": {
  "kernelspec": {
   "display_name": "Python 3",
   "language": "python",
   "name": "python3"
  },
  "language_info": {
   "codemirror_mode": {
    "name": "ipython",
    "version": 3
   },
   "file_extension": ".py",
   "mimetype": "text/x-python",
   "name": "python",
   "nbconvert_exporter": "python",
   "pygments_lexer": "ipython3",
   "version": "3.6.10"
  }
 },
 "nbformat": 4,
 "nbformat_minor": 4
}
