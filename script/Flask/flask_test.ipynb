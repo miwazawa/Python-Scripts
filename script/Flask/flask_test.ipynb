{
 "cells": [
  {
   "cell_type": "code",
   "execution_count": 4,
   "metadata": {},
   "outputs": [],
   "source": [
    "import pandas as pd\n",
    "from flask import Flask"
   ]
  },
  {
   "cell_type": "code",
   "execution_count": 2,
   "metadata": {},
   "outputs": [
    {
     "data": {
      "text/html": [
       "<div>\n",
       "<style scoped>\n",
       "    .dataframe tbody tr th:only-of-type {\n",
       "        vertical-align: middle;\n",
       "    }\n",
       "\n",
       "    .dataframe tbody tr th {\n",
       "        vertical-align: top;\n",
       "    }\n",
       "\n",
       "    .dataframe thead th {\n",
       "        text-align: right;\n",
       "    }\n",
       "</style>\n",
       "<table border=\"1\" class=\"dataframe\">\n",
       "  <thead>\n",
       "    <tr style=\"text-align: right;\">\n",
       "      <th></th>\n",
       "      <th>ID</th>\n",
       "      <th>J_state</th>\n",
       "      <th>J_city</th>\n",
       "      <th>J_loc</th>\n",
       "      <th>E_state</th>\n",
       "      <th>E_city</th>\n",
       "      <th>E_loc</th>\n",
       "    </tr>\n",
       "  </thead>\n",
       "  <tbody>\n",
       "    <tr>\n",
       "      <th>0</th>\n",
       "      <td>600000</td>\n",
       "      <td>北海道</td>\n",
       "      <td>札幌市　中央区</td>\n",
       "      <td>以下に掲載がない場合</td>\n",
       "      <td>HOKKAIDO</td>\n",
       "      <td>SAPPORO SHI CHUO KU</td>\n",
       "      <td>IKANIKEISAIGANAIBAAI</td>\n",
       "    </tr>\n",
       "    <tr>\n",
       "      <th>1</th>\n",
       "      <td>640941</td>\n",
       "      <td>北海道</td>\n",
       "      <td>札幌市　中央区</td>\n",
       "      <td>旭ケ丘</td>\n",
       "      <td>HOKKAIDO</td>\n",
       "      <td>SAPPORO SHI CHUO KU</td>\n",
       "      <td>ASAHIGAOKA</td>\n",
       "    </tr>\n",
       "    <tr>\n",
       "      <th>2</th>\n",
       "      <td>600041</td>\n",
       "      <td>北海道</td>\n",
       "      <td>札幌市　中央区</td>\n",
       "      <td>大通東</td>\n",
       "      <td>HOKKAIDO</td>\n",
       "      <td>SAPPORO SHI CHUO KU</td>\n",
       "      <td>ODORIHIGASHI</td>\n",
       "    </tr>\n",
       "    <tr>\n",
       "      <th>3</th>\n",
       "      <td>600042</td>\n",
       "      <td>北海道</td>\n",
       "      <td>札幌市　中央区</td>\n",
       "      <td>大通西（１〜１９丁目）</td>\n",
       "      <td>HOKKAIDO</td>\n",
       "      <td>SAPPORO SHI CHUO KU</td>\n",
       "      <td>ODORINISHI(1-19-CHOME)</td>\n",
       "    </tr>\n",
       "    <tr>\n",
       "      <th>4</th>\n",
       "      <td>640820</td>\n",
       "      <td>北海道</td>\n",
       "      <td>札幌市　中央区</td>\n",
       "      <td>大通西（２０〜２８丁目）</td>\n",
       "      <td>HOKKAIDO</td>\n",
       "      <td>SAPPORO SHI CHUO KU</td>\n",
       "      <td>ODORINISHI(20-28-CHOME)</td>\n",
       "    </tr>\n",
       "  </tbody>\n",
       "</table>\n",
       "</div>"
      ],
      "text/plain": [
       "       ID J_state   J_city         J_loc   E_state               E_city  \\\n",
       "0  600000     北海道  札幌市　中央区    以下に掲載がない場合  HOKKAIDO  SAPPORO SHI CHUO KU   \n",
       "1  640941     北海道  札幌市　中央区           旭ケ丘  HOKKAIDO  SAPPORO SHI CHUO KU   \n",
       "2  600041     北海道  札幌市　中央区           大通東  HOKKAIDO  SAPPORO SHI CHUO KU   \n",
       "3  600042     北海道  札幌市　中央区   大通西（１〜１９丁目）  HOKKAIDO  SAPPORO SHI CHUO KU   \n",
       "4  640820     北海道  札幌市　中央区  大通西（２０〜２８丁目）  HOKKAIDO  SAPPORO SHI CHUO KU   \n",
       "\n",
       "                     E_loc  \n",
       "0     IKANIKEISAIGANAIBAAI  \n",
       "1               ASAHIGAOKA  \n",
       "2             ODORIHIGASHI  \n",
       "3   ODORINISHI(1-19-CHOME)  \n",
       "4  ODORINISHI(20-28-CHOME)  "
      ]
     },
     "execution_count": 2,
     "metadata": {},
     "output_type": "execute_result"
    }
   ],
   "source": [
    "df = pd.read_csv(\"KEN_ALL_ROME.CSV\", encoding = \"s-jis\")\n",
    "df.head()"
   ]
  },
  {
   "cell_type": "code",
   "execution_count": 5,
   "metadata": {},
   "outputs": [
    {
     "ename": "SyntaxError",
     "evalue": "unexpected EOF while parsing (<ipython-input-5-f233f8fb0dc8>, line 6)",
     "output_type": "error",
     "traceback": [
      "\u001b[1;36m  File \u001b[1;32m\"<ipython-input-5-f233f8fb0dc8>\"\u001b[1;36m, line \u001b[1;32m6\u001b[0m\n\u001b[1;33m    \u001b[0m\n\u001b[1;37m    ^\u001b[0m\n\u001b[1;31mSyntaxError\u001b[0m\u001b[1;31m:\u001b[0m unexpected EOF while parsing\n"
     ]
    }
   ],
   "source": [
    "\n",
    "app.run(port=8000,debug=False)\n",
    "\n",
    "app = flask(__name__)\n",
    "\n",
    "@app.route('/')\n",
    "\n"
   ]
  },
  {
   "cell_type": "code",
   "execution_count": null,
   "metadata": {},
   "outputs": [],
   "source": []
  }
 ],
 "metadata": {
  "kernelspec": {
   "display_name": "Python 3",
   "language": "python",
   "name": "python3"
  },
  "language_info": {
   "codemirror_mode": {
    "name": "ipython",
    "version": 3
   },
   "file_extension": ".py",
   "mimetype": "text/x-python",
   "name": "python",
   "nbconvert_exporter": "python",
   "pygments_lexer": "ipython3",
   "version": "3.6.10"
  }
 },
 "nbformat": 4,
 "nbformat_minor": 4
}
