{
 "cells": [
  {
   "cell_type": "code",
   "execution_count": 3,
   "metadata": {},
   "outputs": [
    {
     "name": "stdout",
     "output_type": "stream",
     "text": [
      "0.25.3\n"
     ]
    },
    {
     "ename": "NameError",
     "evalue": "name 'ix' is not defined",
     "output_type": "error",
     "traceback": [
      "\u001b[1;31m---------------------------------------------------------------------------\u001b[0m",
      "\u001b[1;31mNameError\u001b[0m                                 Traceback (most recent call last)",
      "\u001b[1;32m<ipython-input-3-d1a31b1496b3>\u001b[0m in \u001b[0;36m<module>\u001b[1;34m\u001b[0m\n\u001b[0;32m     16\u001b[0m \u001b[0mdf\u001b[0m \u001b[1;33m=\u001b[0m \u001b[0mpd\u001b[0m\u001b[1;33m.\u001b[0m\u001b[0mread_csv\u001b[0m\u001b[1;33m(\u001b[0m\u001b[1;34m\"qtdbse1102.txt\"\u001b[0m\u001b[1;33m,\u001b[0m \u001b[0mdelimiter\u001b[0m\u001b[1;33m=\u001b[0m\u001b[1;34m\"\\t\"\u001b[0m\u001b[1;33m)\u001b[0m\u001b[1;33m\u001b[0m\u001b[1;33m\u001b[0m\u001b[0m\n\u001b[0;32m     17\u001b[0m \u001b[0mprint\u001b[0m\u001b[1;33m(\u001b[0m\u001b[0mpd\u001b[0m\u001b[1;33m.\u001b[0m\u001b[0m__version__\u001b[0m\u001b[1;33m)\u001b[0m\u001b[1;33m\u001b[0m\u001b[1;33m\u001b[0m\u001b[0m\n\u001b[1;32m---> 18\u001b[1;33m \u001b[0mX\u001b[0m \u001b[1;33m=\u001b[0m \u001b[0mix\u001b[0m\u001b[1;33m[\u001b[0m\u001b[1;33m:\u001b[0m\u001b[1;33m,\u001b[0m\u001b[1;36m1\u001b[0m\u001b[1;33m]\u001b[0m  \u001b[1;31m# 一列だけを取り出す\u001b[0m\u001b[1;33m\u001b[0m\u001b[1;33m\u001b[0m\u001b[0m\n\u001b[0m\u001b[0;32m     19\u001b[0m \u001b[0mX\u001b[0m \u001b[1;33m=\u001b[0m \u001b[0mX\u001b[0m\u001b[1;33m.\u001b[0m\u001b[0mas_matrix\u001b[0m\u001b[1;33m(\u001b[0m\u001b[1;33m)\u001b[0m\u001b[1;33m\u001b[0m\u001b[1;33m\u001b[0m\u001b[0m\n\u001b[0;32m     20\u001b[0m \u001b[1;33m\u001b[0m\u001b[0m\n",
      "\u001b[1;31mNameError\u001b[0m: name 'ix' is not defined"
     ]
    }
   ],
   "source": [
    "#2-2 normedをdesityに変えればエラーは消える\n",
    "#2-6 # Numpyのarray型へ変換\n",
    "     #X = df.drop(\"drivers\", axis=1).to_numpy()  # drivers列を除く\n",
    "     #drivers = df[\"drivers\"].values\n",
    "#7-1 ixはpandas1.0.3ではremoveされている\n",
    "     #!pip install pandas==0.25.3\n",
    "\n",
    "\n",
    "\n",
    "\n",
    "import pandas as pd\n",
    "import numpy as np\n",
    "from matplotlib import pyplot as plt\n",
    "\n",
    "# 観測データを取得\n",
    "df = pd.read_csv(\"qtdbse1102.txt\", delimiter=\"\\t\")\n",
    "print(pd.__version__)\n",
    "X = ix[:,1]  # 一列だけを取り出す\n",
    "X = X.as_matrix()\n",
    "\n",
    "# 変数を定義\n",
    "w = 100 # 窓幅\n",
    "nk = 1  # 近傍数\n",
    "T = 3000 # 観測値の長さ\n",
    "\n",
    "# 前半を訓練データ、残りを検証データとする\n",
    "Xtr = X[:T]\n",
    "X = X[T+1:2*T+1]\n",
    "\n",
    "# スライド窓で分割した時系列データを作成\n",
    "def create_slide_data(data, w):\n",
    "    D = []\n",
    "    T = len(data)\n",
    "    N = T - w + 1\n",
    "    for i in range(N):\n",
    "        D.append(data[i:i+w])\n",
    "    return D\n",
    "\n",
    "# 2点間の距離（ユークリッド距離）　\n",
    "def dist(pt1, pt2):\n",
    "    return np.sqrt(((pt2 - pt1) ** 2).sum())\n",
    "\n",
    "# 異常度を計算\n",
    "# 距離のうち最小のものをk個選び、平均を計算する\n",
    "def score(dist_list, k):\n",
    "    dist_list.sort()\n",
    "    return sum(dist_list[:k]) / k\n",
    "\n",
    "# 時系列データを作成\n",
    "Dtr = create_slide_data(Xtr, w) # 訓練データ\n",
    "D = create_slide_data(X, w)     # 検証データ\n",
    "\n",
    "# 異常度を計算\n",
    "# この実装では計算時間が多くかかってしまう\n",
    "a_list = []\n",
    "for x in D:\n",
    "    dist_list = []\n",
    "    for xtr in Dtr:\n",
    "        dist_list.append(dist(x, xtr))\n",
    "    a = score(dist_list, nk)\n",
    "    a_list.append(a)\n",
    "    \n",
    "\n",
    "# プロット\n",
    "plt.plot(range(len(a_list)), a_list, linestyle=\"solid\", color=\"red\")\n",
    "plt.title(\"Anomaly score\")\n",
    "plt.xlabel(\"Index\")\n",
    "plt.ylabel(\"Anomaly score\")\n",
    "plt.show()"
   ]
  },
  {
   "cell_type": "code",
   "execution_count": null,
   "metadata": {},
   "outputs": [],
   "source": []
  }
 ],
 "metadata": {
  "kernelspec": {
   "display_name": "Python 3",
   "language": "python",
   "name": "python3"
  },
  "language_info": {
   "codemirror_mode": {
    "name": "ipython",
    "version": 3
   },
   "file_extension": ".py",
   "mimetype": "text/x-python",
   "name": "python",
   "nbconvert_exporter": "python",
   "pygments_lexer": "ipython3",
   "version": "3.7.7"
  }
 },
 "nbformat": 4,
 "nbformat_minor": 4
}
